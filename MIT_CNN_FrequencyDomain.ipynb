{
 "cells": [
  {
   "cell_type": "code",
   "execution_count": 1,
   "id": "99831b28-82de-433e-9629-8a27c8094b17",
   "metadata": {},
   "outputs": [
    {
     "name": "stderr",
     "output_type": "stream",
     "text": [
      "2025-02-05 15:43:17.717080: I tensorflow/core/platform/cpu_feature_guard.cc:210] This TensorFlow binary is optimized to use available CPU instructions in performance-critical operations.\n",
      "To enable the following instructions: AVX2 FMA, in other operations, rebuild TensorFlow with the appropriate compiler flags.\n"
     ]
    }
   ],
   "source": [
    "import wfdb\n",
    "import neurokit2 as nk\n",
    "import numpy as np\n",
    "import pandas as pd\n",
    "import os\n",
    "from scipy.fftpack import fft\n",
    "from sklearn.model_selection import train_test_split\n",
    "from sklearn.metrics import classification_report, confusion_matrix, roc_curve, auc, precision_recall_curve\n",
    "import matplotlib.pyplot as plt\n",
    "import seaborn as sns\n",
    "from tensorflow.keras.models import Sequential\n",
    "from tensorflow.keras.layers import Conv1D, MaxPooling1D, Flatten, Dense, Dropout\n",
    "from tensorflow.keras.optimizers import Adam\n",
    "from sklearn.utils.class_weight import compute_class_weight\n"
   ]
  },
  {
   "cell_type": "code",
   "execution_count": 2,
   "id": "396345d1-a5f9-4480-b878-5475c3bd289f",
   "metadata": {},
   "outputs": [],
   "source": [
    "# Dataset path\n",
    "base_path = '/Users/chkv/Downloads/mit-bih-arrhythmia-database-1.0.0/'\n",
    "\n",
    "# Define abnormal beat symbols\n",
    "abnormal_symbols = {'L', 'R', 'A', 'V', 'F', '[', '!', ']', 'e', 'E', '/'}\n",
    "\n",
    "# Segment length: 10 seconds at 360 Hz\n",
    "segment_length = 360 * 10  \n"
   ]
  },
  {
   "cell_type": "code",
   "execution_count": 3,
   "id": "73b6be79-4ffc-4114-920b-3b0deafeed48",
   "metadata": {},
   "outputs": [],
   "source": [
    "def process_record(record_name):\n",
    "    record_path = base_path + record_name\n",
    "    record = wfdb.rdrecord(record_path)\n",
    "    annotation = wfdb.rdann(record_path, 'atr')\n",
    "    \n",
    "    # Extract ECG signal (first lead)\n",
    "    ecg_signal = record.p_signal[:, 0]\n",
    "    \n",
    "    # Preprocess ECG signal\n",
    "    ecg_cleaned = nk.ecg_clean(ecg_signal, sampling_rate=360)\n",
    "    \n",
    "    # Convert to frequency domain using FFT\n",
    "    ecg_fft = np.abs(fft(ecg_cleaned))[:len(ecg_cleaned)//2]  \n",
    "\n",
    "    # Determine if patient is abnormal\n",
    "    abnormal_count = sum(1 for symbol in annotation.symbol if symbol in abnormal_symbols)\n",
    "    total_beats = len(annotation.symbol)\n",
    "    is_abnormal = 1 if (abnormal_count / total_beats) > 0.18 else 0\n",
    "    \n",
    "    return ecg_fft, is_abnormal\n"
   ]
  },
  {
   "cell_type": "code",
   "execution_count": 4,
   "id": "dc8ba202-7521-44b6-994c-b60fa2e4615e",
   "metadata": {},
   "outputs": [],
   "source": [
    "patient_segments = {}\n",
    "patient_labels = {}\n",
    "\n",
    "for file in os.listdir(base_path):\n",
    "    if file.endswith('.dat'):\n",
    "        record_name = file[:-4]\n",
    "        patient_id = record_name[:3]  # Adjust based on patient ID format\n",
    "        try:\n",
    "            ecg_fft, label = process_record(record_name)\n",
    "            num_segments = len(ecg_fft) // segment_length\n",
    "            segments = [ecg_fft[i * segment_length : (i + 1) * segment_length] for i in range(num_segments)]\n",
    "            patient_segments[patient_id] = segments\n",
    "            patient_labels[patient_id] = label\n",
    "        except Exception as e:\n",
    "            print(f\"Error processing {record_name}: {e}\")\n"
   ]
  },
  {
   "cell_type": "code",
   "execution_count": 5,
   "id": "341e9e81-d45e-45f4-a201-bfd4eca6e2b5",
   "metadata": {},
   "outputs": [],
   "source": [
    "# Split patients into train and test\n",
    "patient_ids = list(patient_labels.keys())\n",
    "y_patients = [patient_labels[pid] for pid in patient_ids]\n",
    "train_ids, test_ids = train_test_split(patient_ids, test_size=0.2, random_state=42, stratify=y_patients)\n",
    "\n",
    "# Compile training and testing data\n",
    "X_train, y_train, X_test, y_test = [], [], [], []\n",
    "\n",
    "for pid in train_ids:\n",
    "    X_train.extend(patient_segments[pid])\n",
    "    y_train.extend([patient_labels[pid]] * len(patient_segments[pid]))\n",
    "\n",
    "for pid in test_ids:\n",
    "    X_test.extend(patient_segments[pid])\n",
    "    y_test.extend([patient_labels[pid]] * len(patient_segments[pid]))\n",
    "\n",
    "# Convert to numpy arrays and reshape for CNN\n",
    "X_train = np.array(X_train).reshape(-1, segment_length, 1)\n",
    "X_test = np.array(X_test).reshape(-1, segment_length, 1)\n",
    "y_train = np.array(y_train)\n",
    "y_test = np.array(y_test)\n"
   ]
  },
  {
   "cell_type": "code",
   "execution_count": 6,
   "id": "cf357443-bd87-4c0c-814a-21d535590a02",
   "metadata": {},
   "outputs": [],
   "source": [
    "class_weights = compute_class_weight('balanced', classes=np.unique(y_train), y=y_train)\n",
    "class_weights = {i: w for i, w in enumerate(class_weights)}\n"
   ]
  },
  {
   "cell_type": "code",
   "execution_count": 7,
   "id": "8d3d7ae0-0f1d-4b17-84e1-b04b05c0b272",
   "metadata": {},
   "outputs": [
    {
     "name": "stderr",
     "output_type": "stream",
     "text": [
      "/opt/anaconda3/lib/python3.12/site-packages/keras/src/layers/convolutional/base_conv.py:107: UserWarning: Do not pass an `input_shape`/`input_dim` argument to a layer. When using Sequential models, prefer using an `Input(shape)` object as the first layer in the model instead.\n",
      "  super().__init__(activity_regularizer=activity_regularizer, **kwargs)\n"
     ]
    },
    {
     "name": "stdout",
     "output_type": "stream",
     "text": [
      "Epoch 1/20\n",
      "\u001b[1m86/86\u001b[0m \u001b[32m━━━━━━━━━━━━━━━━━━━━\u001b[0m\u001b[37m\u001b[0m \u001b[1m60s\u001b[0m 655ms/step - accuracy: 0.4946 - loss: 70.6940 - val_accuracy: 0.3684 - val_loss: 0.7083\n",
      "Epoch 2/20\n",
      "\u001b[1m86/86\u001b[0m \u001b[32m━━━━━━━━━━━━━━━━━━━━\u001b[0m\u001b[37m\u001b[0m \u001b[1m69s\u001b[0m 801ms/step - accuracy: 0.5195 - loss: 0.6727 - val_accuracy: 0.6988 - val_loss: 0.7132\n",
      "Epoch 3/20\n",
      "\u001b[1m86/86\u001b[0m \u001b[32m━━━━━━━━━━━━━━━━━━━━\u001b[0m\u001b[37m\u001b[0m \u001b[1m49s\u001b[0m 570ms/step - accuracy: 0.5682 - loss: 0.6262 - val_accuracy: 0.3904 - val_loss: 0.7996\n",
      "Epoch 4/20\n",
      "\u001b[1m86/86\u001b[0m \u001b[32m━━━━━━━━━━━━━━━━━━━━\u001b[0m\u001b[37m\u001b[0m \u001b[1m63s\u001b[0m 730ms/step - accuracy: 0.5622 - loss: 0.6106 - val_accuracy: 0.3947 - val_loss: 0.8410\n",
      "Epoch 5/20\n",
      "\u001b[1m86/86\u001b[0m \u001b[32m━━━━━━━━━━━━━━━━━━━━\u001b[0m\u001b[37m\u001b[0m \u001b[1m55s\u001b[0m 639ms/step - accuracy: 0.5724 - loss: 0.6139 - val_accuracy: 0.3918 - val_loss: 0.8368\n",
      "Epoch 6/20\n",
      "\u001b[1m86/86\u001b[0m \u001b[32m━━━━━━━━━━━━━━━━━━━━\u001b[0m\u001b[37m\u001b[0m \u001b[1m67s\u001b[0m 462ms/step - accuracy: 0.5482 - loss: 0.6036 - val_accuracy: 0.4956 - val_loss: 1.2268\n",
      "Epoch 7/20\n",
      "\u001b[1m86/86\u001b[0m \u001b[32m━━━━━━━━━━━━━━━━━━━━\u001b[0m\u001b[37m\u001b[0m \u001b[1m42s\u001b[0m 489ms/step - accuracy: 0.5778 - loss: 0.6349 - val_accuracy: 0.6009 - val_loss: 0.9277\n",
      "Epoch 8/20\n",
      "\u001b[1m86/86\u001b[0m \u001b[32m━━━━━━━━━━━━━━━━━━━━\u001b[0m\u001b[37m\u001b[0m \u001b[1m48s\u001b[0m 560ms/step - accuracy: 0.5622 - loss: 0.6235 - val_accuracy: 0.7018 - val_loss: 0.8506\n",
      "Epoch 9/20\n",
      "\u001b[1m86/86\u001b[0m \u001b[32m━━━━━━━━━━━━━━━━━━━━\u001b[0m\u001b[37m\u001b[0m \u001b[1m85s\u001b[0m 593ms/step - accuracy: 0.5898 - loss: 0.6043 - val_accuracy: 0.5614 - val_loss: 0.8800\n",
      "Epoch 10/20\n",
      "\u001b[1m86/86\u001b[0m \u001b[32m━━━━━━━━━━━━━━━━━━━━\u001b[0m\u001b[37m\u001b[0m \u001b[1m62s\u001b[0m 721ms/step - accuracy: 0.5672 - loss: 0.6073 - val_accuracy: 0.7251 - val_loss: 1.0490\n",
      "Epoch 11/20\n",
      "\u001b[1m86/86\u001b[0m \u001b[32m━━━━━━━━━━━━━━━━━━━━\u001b[0m\u001b[37m\u001b[0m \u001b[1m68s\u001b[0m 794ms/step - accuracy: 0.6007 - loss: 0.6064 - val_accuracy: 0.6301 - val_loss: 1.4837\n",
      "Epoch 12/20\n",
      "\u001b[1m86/86\u001b[0m \u001b[32m━━━━━━━━━━━━━━━━━━━━\u001b[0m\u001b[37m\u001b[0m \u001b[1m61s\u001b[0m 704ms/step - accuracy: 0.5856 - loss: 0.5800 - val_accuracy: 0.3918 - val_loss: 1.5583\n",
      "Epoch 13/20\n",
      "\u001b[1m86/86\u001b[0m \u001b[32m━━━━━━━━━━━━━━━━━━━━\u001b[0m\u001b[37m\u001b[0m \u001b[1m47s\u001b[0m 543ms/step - accuracy: 0.5657 - loss: 0.6566 - val_accuracy: 0.7105 - val_loss: 0.7785\n",
      "Epoch 14/20\n",
      "\u001b[1m86/86\u001b[0m \u001b[32m━━━━━━━━━━━━━━━━━━━━\u001b[0m\u001b[37m\u001b[0m \u001b[1m55s\u001b[0m 639ms/step - accuracy: 0.6041 - loss: 0.6082 - val_accuracy: 0.7018 - val_loss: 1.0103\n",
      "Epoch 15/20\n",
      "\u001b[1m86/86\u001b[0m \u001b[32m━━━━━━━━━━━━━━━━━━━━\u001b[0m\u001b[37m\u001b[0m \u001b[1m65s\u001b[0m 755ms/step - accuracy: 0.6467 - loss: 0.6222 - val_accuracy: 0.7251 - val_loss: 1.0757\n",
      "Epoch 16/20\n",
      "\u001b[1m86/86\u001b[0m \u001b[32m━━━━━━━━━━━━━━━━━━━━\u001b[0m\u001b[37m\u001b[0m \u001b[1m83s\u001b[0m 776ms/step - accuracy: 0.6444 - loss: 0.5759 - val_accuracy: 0.6754 - val_loss: 1.0246\n",
      "Epoch 17/20\n",
      "\u001b[1m86/86\u001b[0m \u001b[32m━━━━━━━━━━━━━━━━━━━━\u001b[0m\u001b[37m\u001b[0m \u001b[1m44s\u001b[0m 517ms/step - accuracy: 0.6624 - loss: 0.5663 - val_accuracy: 0.6272 - val_loss: 0.9702\n",
      "Epoch 18/20\n",
      "\u001b[1m86/86\u001b[0m \u001b[32m━━━━━━━━━━━━━━━━━━━━\u001b[0m\u001b[37m\u001b[0m \u001b[1m54s\u001b[0m 631ms/step - accuracy: 0.6793 - loss: 0.5686 - val_accuracy: 0.6257 - val_loss: 1.0354\n",
      "Epoch 19/20\n",
      "\u001b[1m86/86\u001b[0m \u001b[32m━━━━━━━━━━━━━━━━━━━━\u001b[0m\u001b[37m\u001b[0m \u001b[1m71s\u001b[0m 819ms/step - accuracy: 0.6856 - loss: 0.6248 - val_accuracy: 0.6871 - val_loss: 0.8885\n",
      "Epoch 20/20\n",
      "\u001b[1m86/86\u001b[0m \u001b[32m━━━━━━━━━━━━━━━━━━━━\u001b[0m\u001b[37m\u001b[0m \u001b[1m61s\u001b[0m 713ms/step - accuracy: 0.6832 - loss: 0.5789 - val_accuracy: 0.7281 - val_loss: 1.0073\n"
     ]
    }
   ],
   "source": [
    "# Define CNN model\n",
    "model = Sequential([\n",
    "    Conv1D(64, kernel_size=3, activation='relu', input_shape=(segment_length, 1)),\n",
    "    MaxPooling1D(2),\n",
    "    Conv1D(128, kernel_size=3, activation='relu'),\n",
    "    MaxPooling1D(2),\n",
    "    Flatten(),\n",
    "    Dense(128, activation='relu'),\n",
    "    Dropout(0.5),\n",
    "    Dense(1, activation='sigmoid')\n",
    "])\n",
    "\n",
    "# Compile model\n",
    "model.compile(optimizer=Adam(0.001), loss='binary_crossentropy', metrics=['accuracy'])\n",
    "\n",
    "# Train model\n",
    "history = model.fit(\n",
    "    X_train, y_train,\n",
    "    epochs=20,\n",
    "    batch_size=32,\n",
    "    validation_split=0.2,\n",
    "    class_weight=class_weights\n",
    ")\n"
   ]
  },
  {
   "cell_type": "code",
   "execution_count": 8,
   "id": "27938ed4-95e0-4916-ab04-0a63c19b67bd",
   "metadata": {},
   "outputs": [
    {
     "name": "stdout",
     "output_type": "stream",
     "text": [
      "\u001b[1m29/29\u001b[0m \u001b[32m━━━━━━━━━━━━━━━━━━━━\u001b[0m\u001b[37m\u001b[0m \u001b[1m7s\u001b[0m 236ms/step\n"
     ]
    }
   ],
   "source": [
    "# Predict on test data\n",
    "y_pred_prob = model.predict(X_test).ravel()\n",
    "y_pred = (y_pred_prob > 0.5).astype(int)\n",
    "\n",
    "# Compute confusion matrix\n",
    "cm = confusion_matrix(y_test, y_pred)\n",
    "tn, fp, fn, tp = cm.ravel()\n",
    "\n",
    "# Compute Sensitivity (Recall) and Specificity\n",
    "sensitivity = tp / (tp + fn)\n",
    "specificity = tn / (tn + fp)\n",
    "\n",
    "# Compute Precision-Recall AUC\n",
    "precision, recall, _ = precision_recall_curve(y_test, y_pred_prob)\n",
    "pr_auc = auc(recall, precision)\n",
    "\n",
    "# Compute ROC AUC\n",
    "fpr, tpr, _ = roc_curve(y_test, y_pred_prob)\n",
    "roc_auc = auc(fpr, tpr)\n"
   ]
  },
  {
   "cell_type": "code",
   "execution_count": 9,
   "id": "7cab0fc2-7feb-4784-9ce0-532843c4cc30",
   "metadata": {},
   "outputs": [
    {
     "name": "stdout",
     "output_type": "stream",
     "text": [
      "Model Evaluation Summary:\n"
     ]
    },
    {
     "data": {
      "text/html": [
       "<div>\n",
       "<style scoped>\n",
       "    .dataframe tbody tr th:only-of-type {\n",
       "        vertical-align: middle;\n",
       "    }\n",
       "\n",
       "    .dataframe tbody tr th {\n",
       "        vertical-align: top;\n",
       "    }\n",
       "\n",
       "    .dataframe thead th {\n",
       "        text-align: right;\n",
       "    }\n",
       "</style>\n",
       "<table border=\"1\" class=\"dataframe\">\n",
       "  <thead>\n",
       "    <tr style=\"text-align: right;\">\n",
       "      <th></th>\n",
       "      <th>Metric</th>\n",
       "      <th>Score</th>\n",
       "    </tr>\n",
       "  </thead>\n",
       "  <tbody>\n",
       "    <tr>\n",
       "      <th>0</th>\n",
       "      <td>Accuracy</td>\n",
       "      <td>0.614444</td>\n",
       "    </tr>\n",
       "    <tr>\n",
       "      <th>1</th>\n",
       "      <td>Sensitivity (Recall)</td>\n",
       "      <td>0.408333</td>\n",
       "    </tr>\n",
       "    <tr>\n",
       "      <th>2</th>\n",
       "      <td>Specificity</td>\n",
       "      <td>0.751852</td>\n",
       "    </tr>\n",
       "    <tr>\n",
       "      <th>3</th>\n",
       "      <td>ROC AUC</td>\n",
       "      <td>0.587171</td>\n",
       "    </tr>\n",
       "    <tr>\n",
       "      <th>4</th>\n",
       "      <td>Precision-Recall AUC</td>\n",
       "      <td>0.476980</td>\n",
       "    </tr>\n",
       "  </tbody>\n",
       "</table>\n",
       "</div>"
      ],
      "text/plain": [
       "                 Metric     Score\n",
       "0              Accuracy  0.614444\n",
       "1  Sensitivity (Recall)  0.408333\n",
       "2           Specificity  0.751852\n",
       "3               ROC AUC  0.587171\n",
       "4  Precision-Recall AUC  0.476980"
      ]
     },
     "metadata": {},
     "output_type": "display_data"
    },
    {
     "name": "stdout",
     "output_type": "stream",
     "text": [
      "Confusion Matrix:\n",
      "[[406 134]\n",
      " [213 147]]\n",
      "\n",
      "Classification Report:\n",
      "              precision    recall  f1-score   support\n",
      "\n",
      "           0       0.66      0.75      0.70       540\n",
      "           1       0.52      0.41      0.46       360\n",
      "\n",
      "    accuracy                           0.61       900\n",
      "   macro avg       0.59      0.58      0.58       900\n",
      "weighted avg       0.60      0.61      0.60       900\n",
      "\n"
     ]
    }
   ],
   "source": [
    "# Create a summary DataFrame\n",
    "summary = pd.DataFrame({\n",
    "    'Metric': ['Accuracy', 'Sensitivity (Recall)', 'Specificity', 'ROC AUC', 'Precision-Recall AUC'],\n",
    "    'Score': [\n",
    "        (tp + tn) / (tp + tn + fp + fn),\n",
    "        sensitivity,\n",
    "        specificity,\n",
    "        roc_auc,\n",
    "        pr_auc\n",
    "    ]\n",
    "})\n",
    "\n",
    "print(\"Model Evaluation Summary:\")\n",
    "display(summary)\n",
    "\n",
    "# Print confusion matrix and classification report\n",
    "print(\"Confusion Matrix:\")\n",
    "print(cm)\n",
    "\n",
    "print(\"\\nClassification Report:\")\n",
    "print(classification_report(y_test, y_pred))\n"
   ]
  },
  {
   "cell_type": "code",
   "execution_count": 10,
   "id": "c50207f8-5101-4203-ac1c-99092ec6d2dc",
   "metadata": {},
   "outputs": [
    {
     "data": {
      "image/png": "[encoded data removed]",
      "text/plain": [
       "<Figure size 800x600 with 1 Axes>"
      ]
     },
     "metadata": {},
     "output_type": "display_data"
    },
    {
     "name": "stdout",
     "output_type": "stream",
     "text": [
      "ROC AUC Score: 0.5872\n"
     ]
    }
   ],
   "source": [
    "plt.figure(figsize=(8, 6))\n",
    "plt.plot(fpr, tpr, color='blue', label=f'AUC = {roc_auc:.2f}')\n",
    "plt.plot([0, 1], [0, 1], 'k--', label='Random Guessing')\n",
    "plt.xlabel('False Positive Rate')\n",
    "plt.ylabel('True Positive Rate')\n",
    "plt.title('ROC Curve')\n",
    "plt.legend()\n",
    "plt.grid()\n",
    "plt.show()\n",
    "\n",
    "print(f\"ROC AUC Score: {roc_auc:.4f}\")\n"
   ]
  },
  {
   "cell_type": "code",
   "execution_count": 11,
   "id": "d4e5487d-5702-47ef-97ce-ff1014bccfe4",
   "metadata": {},
   "outputs": [
    {
     "data": {
      "image/png": "[encoded data removed]",
      "text/plain": [
       "<Figure size 600x500 with 2 Axes>"
      ]
     },
     "metadata": {},
     "output_type": "display_data"
    }
   ],
   "source": [
    "plt.figure(figsize=(6, 5))\n",
    "sns.heatmap(cm, annot=True, fmt=\"d\", cmap=\"Blues\", xticklabels=['Normal', 'Abnormal'], yticklabels=['Normal', 'Abnormal'])\n",
    "\n",
    "plt.xlabel(\"Predicted Label\")\n",
    "plt.ylabel(\"True Label\")\n",
    "plt.title(\"Confusion Matrix Heatmap\")\n",
    "plt.show()\n",
    "\n"
   ]
  },
  {
   "cell_type": "code",
   "execution_count": null,
   "id": "81011e3d-6001-45d8-8884-87d353320991",
   "metadata": {},
   "outputs": [],
   "source": [
    "plt.figure(figsize=(8, 6))\n",
    "plt.plot(fpr, tpr, color='blue', label=f'AUC = {roc_auc:.2f}')\n",
    "plt.plot([0, 1], [0, 1], 'k--', label='Random Guessing')\n",
    "plt.xlabel('False Positive Rate')\n",
    "plt.ylabel('True Positive Rate')\n",
    "plt.title('AUC Curve')\n",
    "plt.legend()\n",
    "plt.grid()\n",
    "plt.show()\n",
    "\n",
    "print(f\"ROC AUC Score: {roc_auc:.4f}\")"
   ]
  }
 ],
 "metadata": {
  "kernelspec": {
   "display_name": "Python 3 (ipykernel)",
   "language": "python",
   "name": "python3"
  },
  "language_info": {
   "codemirror_mode": {
    "name": "ipython",
    "version": 3
   },
   "file_extension": ".py",
   "mimetype": "text/x-python",
   "name": "python",
   "nbconvert_exporter": "python",
   "pygments_lexer": "ipython3",
   "version": "3.12.2"
  }
 },
 "nbformat": 4,
 "nbformat_minor": 5
}
